{
 "cells": [
  {
   "cell_type": "code",
   "execution_count": null,
   "metadata": {},
   "outputs": [],
   "source": [
    "# EXTRAER JSON steam_games.json"
   ]
  },
  {
   "cell_type": "code",
   "execution_count": 1,
   "metadata": {},
   "outputs": [],
   "source": [
    "import pandas as pd\n",
    "import numpy as np\n",
    "import json\n",
    "import ast\n",
    "from pandas import json_normalize"
   ]
  },
  {
   "cell_type": "code",
   "execution_count": 2,
   "metadata": {},
   "outputs": [],
   "source": [
    "# Cargamos el json en un dataframe\n",
    "data = []\n",
    "with open('output_steam_games.json') as e:\n",
    "    for line in e:\n",
    "        data.append(json.loads(line))\n",
    "dfsteam_games = pd.DataFrame(data)"
   ]
  },
  {
   "cell_type": "code",
   "execution_count": 3,
   "metadata": {},
   "outputs": [
    {
     "data": {
      "text/html": [
       "<div>\n",
       "<style scoped>\n",
       "    .dataframe tbody tr th:only-of-type {\n",
       "        vertical-align: middle;\n",
       "    }\n",
       "\n",
       "    .dataframe tbody tr th {\n",
       "        vertical-align: top;\n",
       "    }\n",
       "\n",
       "    .dataframe thead th {\n",
       "        text-align: right;\n",
       "    }\n",
       "</style>\n",
       "<table border=\"1\" class=\"dataframe\">\n",
       "  <thead>\n",
       "    <tr style=\"text-align: right;\">\n",
       "      <th></th>\n",
       "      <th>publisher</th>\n",
       "      <th>genres</th>\n",
       "      <th>app_name</th>\n",
       "      <th>title</th>\n",
       "      <th>url</th>\n",
       "      <th>release_date</th>\n",
       "      <th>tags</th>\n",
       "      <th>reviews_url</th>\n",
       "      <th>specs</th>\n",
       "      <th>price</th>\n",
       "      <th>early_access</th>\n",
       "      <th>id</th>\n",
       "      <th>developer</th>\n",
       "    </tr>\n",
       "  </thead>\n",
       "  <tbody>\n",
       "    <tr>\n",
       "      <th>0</th>\n",
       "      <td>NaN</td>\n",
       "      <td>NaN</td>\n",
       "      <td>NaN</td>\n",
       "      <td>NaN</td>\n",
       "      <td>NaN</td>\n",
       "      <td>NaN</td>\n",
       "      <td>NaN</td>\n",
       "      <td>NaN</td>\n",
       "      <td>NaN</td>\n",
       "      <td>NaN</td>\n",
       "      <td>NaN</td>\n",
       "      <td>NaN</td>\n",
       "      <td>NaN</td>\n",
       "    </tr>\n",
       "    <tr>\n",
       "      <th>1</th>\n",
       "      <td>NaN</td>\n",
       "      <td>NaN</td>\n",
       "      <td>NaN</td>\n",
       "      <td>NaN</td>\n",
       "      <td>NaN</td>\n",
       "      <td>NaN</td>\n",
       "      <td>NaN</td>\n",
       "      <td>NaN</td>\n",
       "      <td>NaN</td>\n",
       "      <td>NaN</td>\n",
       "      <td>NaN</td>\n",
       "      <td>NaN</td>\n",
       "      <td>NaN</td>\n",
       "    </tr>\n",
       "    <tr>\n",
       "      <th>2</th>\n",
       "      <td>NaN</td>\n",
       "      <td>NaN</td>\n",
       "      <td>NaN</td>\n",
       "      <td>NaN</td>\n",
       "      <td>NaN</td>\n",
       "      <td>NaN</td>\n",
       "      <td>NaN</td>\n",
       "      <td>NaN</td>\n",
       "      <td>NaN</td>\n",
       "      <td>NaN</td>\n",
       "      <td>NaN</td>\n",
       "      <td>NaN</td>\n",
       "      <td>NaN</td>\n",
       "    </tr>\n",
       "    <tr>\n",
       "      <th>3</th>\n",
       "      <td>NaN</td>\n",
       "      <td>NaN</td>\n",
       "      <td>NaN</td>\n",
       "      <td>NaN</td>\n",
       "      <td>NaN</td>\n",
       "      <td>NaN</td>\n",
       "      <td>NaN</td>\n",
       "      <td>NaN</td>\n",
       "      <td>NaN</td>\n",
       "      <td>NaN</td>\n",
       "      <td>NaN</td>\n",
       "      <td>NaN</td>\n",
       "      <td>NaN</td>\n",
       "    </tr>\n",
       "    <tr>\n",
       "      <th>4</th>\n",
       "      <td>NaN</td>\n",
       "      <td>NaN</td>\n",
       "      <td>NaN</td>\n",
       "      <td>NaN</td>\n",
       "      <td>NaN</td>\n",
       "      <td>NaN</td>\n",
       "      <td>NaN</td>\n",
       "      <td>NaN</td>\n",
       "      <td>NaN</td>\n",
       "      <td>NaN</td>\n",
       "      <td>NaN</td>\n",
       "      <td>NaN</td>\n",
       "      <td>NaN</td>\n",
       "    </tr>\n",
       "  </tbody>\n",
       "</table>\n",
       "</div>"
      ],
      "text/plain": [
       "  publisher genres app_name title  url release_date tags reviews_url specs  \\\n",
       "0       NaN    NaN      NaN   NaN  NaN          NaN  NaN         NaN   NaN   \n",
       "1       NaN    NaN      NaN   NaN  NaN          NaN  NaN         NaN   NaN   \n",
       "2       NaN    NaN      NaN   NaN  NaN          NaN  NaN         NaN   NaN   \n",
       "3       NaN    NaN      NaN   NaN  NaN          NaN  NaN         NaN   NaN   \n",
       "4       NaN    NaN      NaN   NaN  NaN          NaN  NaN         NaN   NaN   \n",
       "\n",
       "  price early_access   id developer  \n",
       "0   NaN          NaN  NaN       NaN  \n",
       "1   NaN          NaN  NaN       NaN  \n",
       "2   NaN          NaN  NaN       NaN  \n",
       "3   NaN          NaN  NaN       NaN  \n",
       "4   NaN          NaN  NaN       NaN  "
      ]
     },
     "execution_count": 3,
     "metadata": {},
     "output_type": "execute_result"
    }
   ],
   "source": [
    "dfsteam_games.head()"
   ]
  },
  {
   "cell_type": "code",
   "execution_count": 4,
   "metadata": {},
   "outputs": [],
   "source": [
    "dfsteam_games = dfsteam_games.drop(['publisher', 'app_name', 'url', 'tags', 'reviews_url', 'specs', 'early_access'], axis=1)\n"
   ]
  },
  {
   "cell_type": "code",
   "execution_count": 5,
   "metadata": {},
   "outputs": [
    {
     "data": {
      "text/html": [
       "<div>\n",
       "<style scoped>\n",
       "    .dataframe tbody tr th:only-of-type {\n",
       "        vertical-align: middle;\n",
       "    }\n",
       "\n",
       "    .dataframe tbody tr th {\n",
       "        vertical-align: top;\n",
       "    }\n",
       "\n",
       "    .dataframe thead th {\n",
       "        text-align: right;\n",
       "    }\n",
       "</style>\n",
       "<table border=\"1\" class=\"dataframe\">\n",
       "  <thead>\n",
       "    <tr style=\"text-align: right;\">\n",
       "      <th></th>\n",
       "      <th>genres</th>\n",
       "      <th>title</th>\n",
       "      <th>release_date</th>\n",
       "      <th>price</th>\n",
       "      <th>id</th>\n",
       "      <th>developer</th>\n",
       "    </tr>\n",
       "  </thead>\n",
       "  <tbody>\n",
       "    <tr>\n",
       "      <th>0</th>\n",
       "      <td>NaN</td>\n",
       "      <td>NaN</td>\n",
       "      <td>NaN</td>\n",
       "      <td>NaN</td>\n",
       "      <td>NaN</td>\n",
       "      <td>NaN</td>\n",
       "    </tr>\n",
       "    <tr>\n",
       "      <th>1</th>\n",
       "      <td>NaN</td>\n",
       "      <td>NaN</td>\n",
       "      <td>NaN</td>\n",
       "      <td>NaN</td>\n",
       "      <td>NaN</td>\n",
       "      <td>NaN</td>\n",
       "    </tr>\n",
       "    <tr>\n",
       "      <th>2</th>\n",
       "      <td>NaN</td>\n",
       "      <td>NaN</td>\n",
       "      <td>NaN</td>\n",
       "      <td>NaN</td>\n",
       "      <td>NaN</td>\n",
       "      <td>NaN</td>\n",
       "    </tr>\n",
       "    <tr>\n",
       "      <th>3</th>\n",
       "      <td>NaN</td>\n",
       "      <td>NaN</td>\n",
       "      <td>NaN</td>\n",
       "      <td>NaN</td>\n",
       "      <td>NaN</td>\n",
       "      <td>NaN</td>\n",
       "    </tr>\n",
       "    <tr>\n",
       "      <th>4</th>\n",
       "      <td>NaN</td>\n",
       "      <td>NaN</td>\n",
       "      <td>NaN</td>\n",
       "      <td>NaN</td>\n",
       "      <td>NaN</td>\n",
       "      <td>NaN</td>\n",
       "    </tr>\n",
       "  </tbody>\n",
       "</table>\n",
       "</div>"
      ],
      "text/plain": [
       "  genres title release_date price   id developer\n",
       "0    NaN   NaN          NaN   NaN  NaN       NaN\n",
       "1    NaN   NaN          NaN   NaN  NaN       NaN\n",
       "2    NaN   NaN          NaN   NaN  NaN       NaN\n",
       "3    NaN   NaN          NaN   NaN  NaN       NaN\n",
       "4    NaN   NaN          NaN   NaN  NaN       NaN"
      ]
     },
     "execution_count": 5,
     "metadata": {},
     "output_type": "execute_result"
    }
   ],
   "source": [
    "dfsteam_games.head()"
   ]
  },
  {
   "cell_type": "code",
   "execution_count": 6,
   "metadata": {},
   "outputs": [
    {
     "name": "stdout",
     "output_type": "stream",
     "text": [
      "Total de filas con valores nulos: 541938\n",
      "Porcentaje de filas con valores nulos: 0.0037357005154758757%\n"
     ]
    }
   ],
   "source": [
    "# Contar filas con valores nulos\n",
    "filas_con_nulos = dfsteam_games.isnull().sum(axis=1)\n",
    "total_filas = len(dfsteam_games)\n",
    "\n",
    "# Calcular porcentaje de filas con valores nulos\n",
    "porcentaje_nulos = (filas_con_nulos / total_filas) * 100\n",
    "\n",
    "# Imprimir resultados\n",
    "print(f\"Total de filas con valores nulos: {filas_con_nulos.sum()}\")\n",
    "print(f\"Porcentaje de filas con valores nulos: {porcentaje_nulos.mean()}%\")\n"
   ]
  },
  {
   "cell_type": "code",
   "execution_count": 7,
   "metadata": {},
   "outputs": [
    {
     "name": "stdout",
     "output_type": "stream",
     "text": [
      "120445\n"
     ]
    }
   ],
   "source": [
    "total_filas = len(dfsteam_games)\n",
    "print(total_filas)"
   ]
  },
  {
   "cell_type": "code",
   "execution_count": 8,
   "metadata": {},
   "outputs": [
    {
     "name": "stdout",
     "output_type": "stream",
     "text": [
      "Total de filas: 120445\n",
      "Total de filas despues drop: 27462\n",
      "Total de filas eliminadas: 92983\n"
     ]
    }
   ],
   "source": [
    "# Número de filas antes de eliminar NaN\n",
    "num_filas_antes = len(dfsteam_games)\n",
    "print(\"Total de filas:\", num_filas_antes)\n",
    "\n",
    "# Eliminar filas con NaN y crear el nuevo DataFrame\n",
    "dfsteam_games_cleaned = dfsteam_games.dropna()\n",
    "\n",
    "# Número de filas después de eliminar NaN\n",
    "num_filas_despues = len(dfsteam_games_cleaned)\n",
    "print(\"Total de filas despues drop:\", num_filas_despues )\n",
    "\n",
    "# Calcular el total de filas eliminadas\n",
    "total_filas_eliminadas = num_filas_antes - num_filas_despues\n",
    "\n",
    "print(\"Total de filas eliminadas:\", total_filas_eliminadas)\n"
   ]
  },
  {
   "cell_type": "code",
   "execution_count": 9,
   "metadata": {},
   "outputs": [
    {
     "name": "stdout",
     "output_type": "stream",
     "text": [
      "Total de filas con valores nulos: 0\n",
      "Porcentaje de filas con valores nulos: 0.0%\n"
     ]
    }
   ],
   "source": [
    "# Contar filas con valores nulos\n",
    "filas_con_nulos = dfsteam_games_cleaned.isnull().sum(axis=1)\n",
    "total_filas = len(dfsteam_games_cleaned)\n",
    "\n",
    "# Calcular porcentaje de filas con valores nulos\n",
    "porcentaje_nulos = (filas_con_nulos / total_filas) * 100\n",
    "\n",
    "# Imprimir resultados\n",
    "print(f\"Total de filas con valores nulos: {filas_con_nulos.sum()}\")\n",
    "print(f\"Porcentaje de filas con valores nulos: {porcentaje_nulos.mean()}%\")"
   ]
  },
  {
   "cell_type": "code",
   "execution_count": 10,
   "metadata": {},
   "outputs": [
    {
     "name": "stdout",
     "output_type": "stream",
     "text": [
      "                                                  genres  \\\n",
      "88310      [Action, Casual, Indie, Simulation, Strategy]   \n",
      "88311               [Free to Play, Indie, RPG, Strategy]   \n",
      "88312  [Casual, Free to Play, Indie, Simulation, Sports]   \n",
      "88313                        [Action, Adventure, Casual]   \n",
      "88315                    [Action, Adventure, Simulation]   \n",
      "\n",
      "                         title release_date         price      id  \\\n",
      "88310      Lost Summoner Kitty   2018-01-04          4.99  761140   \n",
      "88311                Ironbound   2018-01-04  Free To Play  643980   \n",
      "88312  Real Pool 3D - Poolians   2017-07-24  Free to Play  670290   \n",
      "88313                  弹炸人2222   2017-12-07          0.99  767400   \n",
      "88315    Battle Royale Trainer   2018-01-04          3.99  772540   \n",
      "\n",
      "                 developer  \n",
      "88310            Kotoshiro  \n",
      "88311     Secret Level SRL  \n",
      "88312         Poolians.com  \n",
      "88313                 彼岸领域  \n",
      "88315  Trickjump Games Ltd  \n",
      "<class 'pandas.core.frame.DataFrame'>\n",
      "Index: 27462 entries, 88310 to 120443\n",
      "Data columns (total 6 columns):\n",
      " #   Column        Non-Null Count  Dtype \n",
      "---  ------        --------------  ----- \n",
      " 0   genres        27462 non-null  object\n",
      " 1   title         27462 non-null  object\n",
      " 2   release_date  27462 non-null  object\n",
      " 3   price         27462 non-null  object\n",
      " 4   id            27462 non-null  object\n",
      " 5   developer     27462 non-null  object\n",
      "dtypes: object(6)\n",
      "memory usage: 1.5+ MB\n",
      "None\n"
     ]
    }
   ],
   "source": [
    "# Imprimir los primeros juegos del DataFrame\n",
    "print(dfsteam_games_cleaned.head())\n",
    "\n",
    "# Imprimir información sobre el DataFrame\n",
    "print(dfsteam_games_cleaned.info())\n"
   ]
  },
  {
   "cell_type": "code",
   "execution_count": 11,
   "metadata": {},
   "outputs": [
    {
     "name": "stdout",
     "output_type": "stream",
     "text": [
      "                                                  genres  \\\n",
      "88310      [Action, Casual, Indie, Simulation, Strategy]   \n",
      "88311               [Free to Play, Indie, RPG, Strategy]   \n",
      "88312  [Casual, Free to Play, Indie, Simulation, Sports]   \n",
      "88313                        [Action, Adventure, Casual]   \n",
      "88315                    [Action, Adventure, Simulation]   \n",
      "\n",
      "                         title release_date         price      id  \\\n",
      "88310      Lost Summoner Kitty   2018-01-04          4.99  761140   \n",
      "88311                Ironbound   2018-01-04  Free To Play  643980   \n",
      "88312  Real Pool 3D - Poolians   2017-07-24  Free to Play  670290   \n",
      "88313                  弹炸人2222   2017-12-07          0.99  767400   \n",
      "88315    Battle Royale Trainer   2018-01-04          3.99  772540   \n",
      "\n",
      "                 developer  \n",
      "88310            Kotoshiro  \n",
      "88311     Secret Level SRL  \n",
      "88312         Poolians.com  \n",
      "88313                 彼岸领域  \n",
      "88315  Trickjump Games Ltd  \n",
      "<class 'pandas.core.frame.DataFrame'>\n",
      "Index: 27462 entries, 88310 to 120443\n",
      "Data columns (total 6 columns):\n",
      " #   Column        Non-Null Count  Dtype \n",
      "---  ------        --------------  ----- \n",
      " 0   genres        27462 non-null  object\n",
      " 1   title         27462 non-null  object\n",
      " 2   release_date  27462 non-null  object\n",
      " 3   price         27462 non-null  object\n",
      " 4   id            27462 non-null  object\n",
      " 5   developer     27462 non-null  object\n",
      "dtypes: object(6)\n",
      "memory usage: 1.5+ MB\n",
      "None\n"
     ]
    }
   ],
   "source": [
    "# Imprimir los primeros juegos del DataFrame\n",
    "print(dfsteam_games_cleaned.head())\n",
    "\n",
    "# Imprimir información sobre el DataFrame\n",
    "print(dfsteam_games_cleaned.info())"
   ]
  },
  {
   "cell_type": "code",
   "execution_count": 12,
   "metadata": {},
   "outputs": [
    {
     "name": "stderr",
     "output_type": "stream",
     "text": [
      "C:\\Users\\jaime\\AppData\\Local\\Temp\\ipykernel_10908\\1172624369.py:4: SettingWithCopyWarning: \n",
      "A value is trying to be set on a copy of a slice from a DataFrame\n",
      "\n",
      "See the caveats in the documentation: https://pandas.pydata.org/pandas-docs/stable/user_guide/indexing.html#returning-a-view-versus-a-copy\n",
      "  dfsteam_games_cleaned['release_date'].replace(\"Soon..\", np.nan, inplace=True)\n",
      "C:\\Users\\jaime\\AppData\\Local\\Temp\\ipykernel_10908\\1172624369.py:7: SettingWithCopyWarning: \n",
      "A value is trying to be set on a copy of a slice from a DataFrame.\n",
      "Try using .loc[row_indexer,col_indexer] = value instead\n",
      "\n",
      "See the caveats in the documentation: https://pandas.pydata.org/pandas-docs/stable/user_guide/indexing.html#returning-a-view-versus-a-copy\n",
      "  dfsteam_games_cleaned['release_date'] = pd.to_datetime(dfsteam_games_cleaned['release_date'], errors='coerce')\n"
     ]
    }
   ],
   "source": [
    "import numpy as np\n",
    "\n",
    "# Reemplazar \"Soon..\" con NaN\n",
    "dfsteam_games_cleaned['release_date'].replace(\"Soon..\", np.nan, inplace=True)\n",
    "\n",
    "# Convertir la columna a datetime\n",
    "dfsteam_games_cleaned['release_date'] = pd.to_datetime(dfsteam_games_cleaned['release_date'], errors='coerce')\n"
   ]
  },
  {
   "cell_type": "code",
   "execution_count": 13,
   "metadata": {},
   "outputs": [
    {
     "name": "stderr",
     "output_type": "stream",
     "text": [
      "C:\\Users\\jaime\\AppData\\Local\\Temp\\ipykernel_10908\\289674033.py:1: SettingWithCopyWarning: \n",
      "A value is trying to be set on a copy of a slice from a DataFrame.\n",
      "Try using .loc[row_indexer,col_indexer] = value instead\n",
      "\n",
      "See the caveats in the documentation: https://pandas.pydata.org/pandas-docs/stable/user_guide/indexing.html#returning-a-view-versus-a-copy\n",
      "  dfsteam_games_cleaned['release_date'] = pd.to_datetime(dfsteam_games_cleaned['release_date'])\n"
     ]
    }
   ],
   "source": [
    "dfsteam_games_cleaned['release_date'] = pd.to_datetime(dfsteam_games_cleaned['release_date'])\n"
   ]
  },
  {
   "cell_type": "code",
   "execution_count": 14,
   "metadata": {},
   "outputs": [
    {
     "data": {
      "text/html": [
       "<div>\n",
       "<style scoped>\n",
       "    .dataframe tbody tr th:only-of-type {\n",
       "        vertical-align: middle;\n",
       "    }\n",
       "\n",
       "    .dataframe tbody tr th {\n",
       "        vertical-align: top;\n",
       "    }\n",
       "\n",
       "    .dataframe thead th {\n",
       "        text-align: right;\n",
       "    }\n",
       "</style>\n",
       "<table border=\"1\" class=\"dataframe\">\n",
       "  <thead>\n",
       "    <tr style=\"text-align: right;\">\n",
       "      <th></th>\n",
       "      <th>genres</th>\n",
       "      <th>title</th>\n",
       "      <th>release_date</th>\n",
       "      <th>price</th>\n",
       "      <th>id</th>\n",
       "      <th>developer</th>\n",
       "    </tr>\n",
       "  </thead>\n",
       "  <tbody>\n",
       "    <tr>\n",
       "      <th>88310</th>\n",
       "      <td>[Action, Casual, Indie, Simulation, Strategy]</td>\n",
       "      <td>Lost Summoner Kitty</td>\n",
       "      <td>2018-01-04</td>\n",
       "      <td>4.99</td>\n",
       "      <td>761140</td>\n",
       "      <td>Kotoshiro</td>\n",
       "    </tr>\n",
       "    <tr>\n",
       "      <th>88311</th>\n",
       "      <td>[Free to Play, Indie, RPG, Strategy]</td>\n",
       "      <td>Ironbound</td>\n",
       "      <td>2018-01-04</td>\n",
       "      <td>Free To Play</td>\n",
       "      <td>643980</td>\n",
       "      <td>Secret Level SRL</td>\n",
       "    </tr>\n",
       "    <tr>\n",
       "      <th>88312</th>\n",
       "      <td>[Casual, Free to Play, Indie, Simulation, Sports]</td>\n",
       "      <td>Real Pool 3D - Poolians</td>\n",
       "      <td>2017-07-24</td>\n",
       "      <td>Free to Play</td>\n",
       "      <td>670290</td>\n",
       "      <td>Poolians.com</td>\n",
       "    </tr>\n",
       "    <tr>\n",
       "      <th>88313</th>\n",
       "      <td>[Action, Adventure, Casual]</td>\n",
       "      <td>弹炸人2222</td>\n",
       "      <td>2017-12-07</td>\n",
       "      <td>0.99</td>\n",
       "      <td>767400</td>\n",
       "      <td>彼岸领域</td>\n",
       "    </tr>\n",
       "    <tr>\n",
       "      <th>88315</th>\n",
       "      <td>[Action, Adventure, Simulation]</td>\n",
       "      <td>Battle Royale Trainer</td>\n",
       "      <td>2018-01-04</td>\n",
       "      <td>3.99</td>\n",
       "      <td>772540</td>\n",
       "      <td>Trickjump Games Ltd</td>\n",
       "    </tr>\n",
       "  </tbody>\n",
       "</table>\n",
       "</div>"
      ],
      "text/plain": [
       "                                                  genres  \\\n",
       "88310      [Action, Casual, Indie, Simulation, Strategy]   \n",
       "88311               [Free to Play, Indie, RPG, Strategy]   \n",
       "88312  [Casual, Free to Play, Indie, Simulation, Sports]   \n",
       "88313                        [Action, Adventure, Casual]   \n",
       "88315                    [Action, Adventure, Simulation]   \n",
       "\n",
       "                         title release_date         price      id  \\\n",
       "88310      Lost Summoner Kitty   2018-01-04          4.99  761140   \n",
       "88311                Ironbound   2018-01-04  Free To Play  643980   \n",
       "88312  Real Pool 3D - Poolians   2017-07-24  Free to Play  670290   \n",
       "88313                  弹炸人2222   2017-12-07          0.99  767400   \n",
       "88315    Battle Royale Trainer   2018-01-04          3.99  772540   \n",
       "\n",
       "                 developer  \n",
       "88310            Kotoshiro  \n",
       "88311     Secret Level SRL  \n",
       "88312         Poolians.com  \n",
       "88313                 彼岸领域  \n",
       "88315  Trickjump Games Ltd  "
      ]
     },
     "execution_count": 14,
     "metadata": {},
     "output_type": "execute_result"
    }
   ],
   "source": [
    "dfsteam_games_cleaned.head()"
   ]
  },
  {
   "cell_type": "code",
   "execution_count": 15,
   "metadata": {},
   "outputs": [
    {
     "name": "stderr",
     "output_type": "stream",
     "text": [
      "C:\\Users\\jaime\\AppData\\Local\\Temp\\ipykernel_10908\\741145724.py:2: SettingWithCopyWarning: \n",
      "A value is trying to be set on a copy of a slice from a DataFrame.\n",
      "Try using .loc[row_indexer,col_indexer] = value instead\n",
      "\n",
      "See the caveats in the documentation: https://pandas.pydata.org/pandas-docs/stable/user_guide/indexing.html#returning-a-view-versus-a-copy\n",
      "  dfsteam_games_cleaned['genres'] = dfsteam_games_cleaned['genres'].apply(lambda x: ', '.join(x))\n"
     ]
    }
   ],
   "source": [
    "# Convierte la lista de géneros en una cadena de texto separada por comas\n",
    "dfsteam_games_cleaned['genres'] = dfsteam_games_cleaned['genres'].apply(lambda x: ', '.join(x))\n",
    "\n",
    "\n"
   ]
  },
  {
   "cell_type": "code",
   "execution_count": 16,
   "metadata": {},
   "outputs": [
    {
     "data": {
      "text/html": [
       "<div>\n",
       "<style scoped>\n",
       "    .dataframe tbody tr th:only-of-type {\n",
       "        vertical-align: middle;\n",
       "    }\n",
       "\n",
       "    .dataframe tbody tr th {\n",
       "        vertical-align: top;\n",
       "    }\n",
       "\n",
       "    .dataframe thead th {\n",
       "        text-align: right;\n",
       "    }\n",
       "</style>\n",
       "<table border=\"1\" class=\"dataframe\">\n",
       "  <thead>\n",
       "    <tr style=\"text-align: right;\">\n",
       "      <th></th>\n",
       "      <th>genres</th>\n",
       "      <th>title</th>\n",
       "      <th>release_date</th>\n",
       "      <th>price</th>\n",
       "      <th>id</th>\n",
       "      <th>developer</th>\n",
       "    </tr>\n",
       "  </thead>\n",
       "  <tbody>\n",
       "    <tr>\n",
       "      <th>88310</th>\n",
       "      <td>Action, Casual, Indie, Simulation, Strategy</td>\n",
       "      <td>Lost Summoner Kitty</td>\n",
       "      <td>2018-01-04</td>\n",
       "      <td>4.99</td>\n",
       "      <td>761140</td>\n",
       "      <td>Kotoshiro</td>\n",
       "    </tr>\n",
       "    <tr>\n",
       "      <th>88311</th>\n",
       "      <td>Free to Play, Indie, RPG, Strategy</td>\n",
       "      <td>Ironbound</td>\n",
       "      <td>2018-01-04</td>\n",
       "      <td>Free To Play</td>\n",
       "      <td>643980</td>\n",
       "      <td>Secret Level SRL</td>\n",
       "    </tr>\n",
       "    <tr>\n",
       "      <th>88312</th>\n",
       "      <td>Casual, Free to Play, Indie, Simulation, Sports</td>\n",
       "      <td>Real Pool 3D - Poolians</td>\n",
       "      <td>2017-07-24</td>\n",
       "      <td>Free to Play</td>\n",
       "      <td>670290</td>\n",
       "      <td>Poolians.com</td>\n",
       "    </tr>\n",
       "    <tr>\n",
       "      <th>88313</th>\n",
       "      <td>Action, Adventure, Casual</td>\n",
       "      <td>弹炸人2222</td>\n",
       "      <td>2017-12-07</td>\n",
       "      <td>0.99</td>\n",
       "      <td>767400</td>\n",
       "      <td>彼岸领域</td>\n",
       "    </tr>\n",
       "    <tr>\n",
       "      <th>88315</th>\n",
       "      <td>Action, Adventure, Simulation</td>\n",
       "      <td>Battle Royale Trainer</td>\n",
       "      <td>2018-01-04</td>\n",
       "      <td>3.99</td>\n",
       "      <td>772540</td>\n",
       "      <td>Trickjump Games Ltd</td>\n",
       "    </tr>\n",
       "  </tbody>\n",
       "</table>\n",
       "</div>"
      ],
      "text/plain": [
       "                                                genres  \\\n",
       "88310      Action, Casual, Indie, Simulation, Strategy   \n",
       "88311               Free to Play, Indie, RPG, Strategy   \n",
       "88312  Casual, Free to Play, Indie, Simulation, Sports   \n",
       "88313                        Action, Adventure, Casual   \n",
       "88315                    Action, Adventure, Simulation   \n",
       "\n",
       "                         title release_date         price      id  \\\n",
       "88310      Lost Summoner Kitty   2018-01-04          4.99  761140   \n",
       "88311                Ironbound   2018-01-04  Free To Play  643980   \n",
       "88312  Real Pool 3D - Poolians   2017-07-24  Free to Play  670290   \n",
       "88313                  弹炸人2222   2017-12-07          0.99  767400   \n",
       "88315    Battle Royale Trainer   2018-01-04          3.99  772540   \n",
       "\n",
       "                 developer  \n",
       "88310            Kotoshiro  \n",
       "88311     Secret Level SRL  \n",
       "88312         Poolians.com  \n",
       "88313                 彼岸领域  \n",
       "88315  Trickjump Games Ltd  "
      ]
     },
     "execution_count": 16,
     "metadata": {},
     "output_type": "execute_result"
    }
   ],
   "source": [
    "dfsteam_games_cleaned.head()"
   ]
  },
  {
   "cell_type": "code",
   "execution_count": 17,
   "metadata": {},
   "outputs": [
    {
     "name": "stderr",
     "output_type": "stream",
     "text": [
      "C:\\Users\\jaime\\AppData\\Local\\Temp\\ipykernel_10908\\283780244.py:2: SettingWithCopyWarning: \n",
      "A value is trying to be set on a copy of a slice from a DataFrame.\n",
      "Try using .loc[row_indexer,col_indexer] = value instead\n",
      "\n",
      "See the caveats in the documentation: https://pandas.pydata.org/pandas-docs/stable/user_guide/indexing.html#returning-a-view-versus-a-copy\n",
      "  dfsteam_games_cleaned['price'] = dfsteam_games_cleaned['price'].astype(str)\n"
     ]
    }
   ],
   "source": [
    "# Convertir la columna 'price' a tipo str\n",
    "dfsteam_games_cleaned['price'] = dfsteam_games_cleaned['price'].astype(str)"
   ]
  },
  {
   "cell_type": "code",
   "execution_count": 18,
   "metadata": {},
   "outputs": [
    {
     "name": "stdout",
     "output_type": "stream",
     "text": [
      "El ID 761140 tiene asociada la fecha '2018-01-04' en la columna 'release_date'.\n"
     ]
    },
    {
     "name": "stderr",
     "output_type": "stream",
     "text": [
      "C:\\Users\\jaime\\AppData\\Local\\Temp\\ipykernel_10908\\3778954988.py:8: SettingWithCopyWarning: \n",
      "A value is trying to be set on a copy of a slice from a DataFrame.\n",
      "Try using .loc[row_indexer,col_indexer] = value instead\n",
      "\n",
      "See the caveats in the documentation: https://pandas.pydata.org/pandas-docs/stable/user_guide/indexing.html#returning-a-view-versus-a-copy\n",
      "  dfsteam_games_cleaned['id'] = dfsteam_games_cleaned['id'].astype(int)\n",
      "C:\\Users\\jaime\\AppData\\Local\\Temp\\ipykernel_10908\\3778954988.py:11: SettingWithCopyWarning: \n",
      "A value is trying to be set on a copy of a slice from a DataFrame.\n",
      "Try using .loc[row_indexer,col_indexer] = value instead\n",
      "\n",
      "See the caveats in the documentation: https://pandas.pydata.org/pandas-docs/stable/user_guide/indexing.html#returning-a-view-versus-a-copy\n",
      "  dfsteam_games_cleaned['release_date'] = pd.to_datetime(dfsteam_games_cleaned['release_date'])\n"
     ]
    }
   ],
   "source": [
    "# ID consultar (interpretado como int)\n",
    "id_a_consultar = 761140\n",
    "\n",
    "# Fecha que deseas buscar\n",
    "fecha_a_buscar = '2018-01-04'\n",
    "\n",
    "# Convierte la columna 'id' a tipo int para la comparación\n",
    "dfsteam_games_cleaned['id'] = dfsteam_games_cleaned['id'].astype(int)\n",
    "\n",
    "# Convierte la columna 'release_date' a tipo datetime para la comparación\n",
    "dfsteam_games_cleaned['release_date'] = pd.to_datetime(dfsteam_games_cleaned['release_date'])\n",
    "\n",
    "# Verifica si el ID tiene la fecha '2018-01-04' en la columna 'release_date'\n",
    "id_tiene_fecha = (dfsteam_games_cleaned['id'] == id_a_consultar) & (dfsteam_games_cleaned['release_date'] == fecha_a_buscar)\n",
    "\n",
    "if id_tiene_fecha.any():\n",
    "    print(f\"El ID {id_a_consultar} tiene asociada la fecha '{fecha_a_buscar}' en la columna 'release_date'.\")\n",
    "else:\n",
    "    print(f\"El ID {id_a_consultar} no tiene asociada la fecha '{fecha_a_buscar}' en la columna 'release_date'.\")\n"
   ]
  },
  {
   "cell_type": "code",
   "execution_count": 19,
   "metadata": {},
   "outputs": [
    {
     "name": "stdout",
     "output_type": "stream",
     "text": [
      "El ID 761140 tiene asociado el género 'Action' en la columna 'genres'.\n"
     ]
    },
    {
     "name": "stderr",
     "output_type": "stream",
     "text": [
      "C:\\Users\\jaime\\AppData\\Local\\Temp\\ipykernel_10908\\4279773460.py:8: SettingWithCopyWarning: \n",
      "A value is trying to be set on a copy of a slice from a DataFrame.\n",
      "Try using .loc[row_indexer,col_indexer] = value instead\n",
      "\n",
      "See the caveats in the documentation: https://pandas.pydata.org/pandas-docs/stable/user_guide/indexing.html#returning-a-view-versus-a-copy\n",
      "  dfsteam_games_cleaned['id'] = dfsteam_games_cleaned['id'].astype(int)\n"
     ]
    }
   ],
   "source": [
    "# ID consultar\n",
    "id_a_consultar = 761140\n",
    "\n",
    "# Género  buscar\n",
    "genero_a_buscar = 'Action'\n",
    "\n",
    "# Convierte la columna 'id' a tipo int para la comparación\n",
    "dfsteam_games_cleaned['id'] = dfsteam_games_cleaned['id'].astype(int)\n",
    "\n",
    "# Verifica si el ID tiene el género 'Action' en la columna 'genres'\n",
    "id_tiene_genero_action = (dfsteam_games_cleaned['id'] == id_a_consultar) & (dfsteam_games_cleaned['genres'].str.contains(genero_a_buscar))\n",
    "\n",
    "if id_tiene_genero_action.any():\n",
    "    print(f\"El ID {id_a_consultar} tiene asociado el género '{genero_a_buscar}' en la columna 'genres'.\")\n",
    "else:\n",
    "    print(f\"El ID {id_a_consultar} no tiene asociado el género '{genero_a_buscar}' en la columna 'genres'.\")\n",
    "\n"
   ]
  },
  {
   "cell_type": "code",
   "execution_count": 20,
   "metadata": {},
   "outputs": [
    {
     "name": "stdout",
     "output_type": "stream",
     "text": [
      "El ID 761140 se encuentra en la columna 'id' como un número entero.\n"
     ]
    }
   ],
   "source": [
    "\n",
    "# Valor que deseas buscar como número entero\n",
    "id_a_buscar = 761140\n",
    "\n",
    "# Verifica si el valor está en la columna 'id' como número entero\n",
    "id_encontrado = (dfsteam_games_cleaned['id'].astype(int) == id_a_buscar).any()\n",
    "\n",
    "if id_encontrado:\n",
    "    print(f\"El ID {id_a_buscar} se encuentra en la columna 'id' como un número entero.\")\n",
    "else:\n",
    "    print(f\"El ID {id_a_buscar} no se encuentra en la columna 'id' como un número entero.\")\n",
    "\n",
    "\n"
   ]
  },
  {
   "cell_type": "code",
   "execution_count": 21,
   "metadata": {},
   "outputs": [
    {
     "name": "stdout",
     "output_type": "stream",
     "text": [
      "genres          Action, Casual, Indie, Simulation, Strategy\n",
      "title                                   Lost Summoner Kitty\n",
      "release_date                            2018-01-04 00:00:00\n",
      "price                                                  4.99\n",
      "id                                                   761140\n",
      "developer                                         Kotoshiro\n",
      "Name: 88310, dtype: object\n"
     ]
    }
   ],
   "source": [
    "# información de la primera fila en el DataFrame dfsteam_games_cleaned\n",
    "primera_fila = dfsteam_games_cleaned.iloc[0]\n",
    "\n",
    "# Imprime la información de la primera fila\n",
    "print(primera_fila)\n",
    "\n"
   ]
  },
  {
   "cell_type": "code",
   "execution_count": 22,
   "metadata": {},
   "outputs": [],
   "source": [
    "# Guardar el DataFrame como un archivo CSV\n",
    "dfsteam_games_cleaned.to_csv('dfsteam_games_cleaned.csv', index=False)\n"
   ]
  },
  {
   "cell_type": "code",
   "execution_count": null,
   "metadata": {},
   "outputs": [],
   "source": [
    "# EXTRAER JSON user_reviews.json"
   ]
  },
  {
   "cell_type": "code",
   "execution_count": 23,
   "metadata": {},
   "outputs": [],
   "source": [
    "# Leer el contenido del archivo user_reviews.json\n",
    "with open('australian_user_reviews.json', \"r\", encoding='utf-8') as f:\n",
    "    data = f.readlines()\n",
    "    \n",
    "# Convertir la lineas a registros JSON\n",
    "records = [eval(line.strip()) for line in data]\n",
    "\n",
    "df_user_reviews = pd.DataFrame(records)"
   ]
  },
  {
   "cell_type": "code",
   "execution_count": 24,
   "metadata": {},
   "outputs": [
    {
     "data": {
      "text/html": [
       "<div>\n",
       "<style scoped>\n",
       "    .dataframe tbody tr th:only-of-type {\n",
       "        vertical-align: middle;\n",
       "    }\n",
       "\n",
       "    .dataframe tbody tr th {\n",
       "        vertical-align: top;\n",
       "    }\n",
       "\n",
       "    .dataframe thead th {\n",
       "        text-align: right;\n",
       "    }\n",
       "</style>\n",
       "<table border=\"1\" class=\"dataframe\">\n",
       "  <thead>\n",
       "    <tr style=\"text-align: right;\">\n",
       "      <th></th>\n",
       "      <th>user_id</th>\n",
       "      <th>user_url</th>\n",
       "      <th>reviews</th>\n",
       "    </tr>\n",
       "  </thead>\n",
       "  <tbody>\n",
       "    <tr>\n",
       "      <th>0</th>\n",
       "      <td>76561197970982479</td>\n",
       "      <td>http://steamcommunity.com/profiles/76561197970...</td>\n",
       "      <td>[{'funny': '', 'posted': 'Posted November 5, 2...</td>\n",
       "    </tr>\n",
       "    <tr>\n",
       "      <th>1</th>\n",
       "      <td>js41637</td>\n",
       "      <td>http://steamcommunity.com/id/js41637</td>\n",
       "      <td>[{'funny': '', 'posted': 'Posted June 24, 2014...</td>\n",
       "    </tr>\n",
       "    <tr>\n",
       "      <th>2</th>\n",
       "      <td>evcentric</td>\n",
       "      <td>http://steamcommunity.com/id/evcentric</td>\n",
       "      <td>[{'funny': '', 'posted': 'Posted February 3.',...</td>\n",
       "    </tr>\n",
       "    <tr>\n",
       "      <th>3</th>\n",
       "      <td>doctr</td>\n",
       "      <td>http://steamcommunity.com/id/doctr</td>\n",
       "      <td>[{'funny': '', 'posted': 'Posted October 14, 2...</td>\n",
       "    </tr>\n",
       "    <tr>\n",
       "      <th>4</th>\n",
       "      <td>maplemage</td>\n",
       "      <td>http://steamcommunity.com/id/maplemage</td>\n",
       "      <td>[{'funny': '3 people found this review funny',...</td>\n",
       "    </tr>\n",
       "  </tbody>\n",
       "</table>\n",
       "</div>"
      ],
      "text/plain": [
       "             user_id                                           user_url  \\\n",
       "0  76561197970982479  http://steamcommunity.com/profiles/76561197970...   \n",
       "1            js41637               http://steamcommunity.com/id/js41637   \n",
       "2          evcentric             http://steamcommunity.com/id/evcentric   \n",
       "3              doctr                 http://steamcommunity.com/id/doctr   \n",
       "4          maplemage             http://steamcommunity.com/id/maplemage   \n",
       "\n",
       "                                             reviews  \n",
       "0  [{'funny': '', 'posted': 'Posted November 5, 2...  \n",
       "1  [{'funny': '', 'posted': 'Posted June 24, 2014...  \n",
       "2  [{'funny': '', 'posted': 'Posted February 3.',...  \n",
       "3  [{'funny': '', 'posted': 'Posted October 14, 2...  \n",
       "4  [{'funny': '3 people found this review funny',...  "
      ]
     },
     "execution_count": 24,
     "metadata": {},
     "output_type": "execute_result"
    }
   ],
   "source": [
    "df_user_reviews.head()"
   ]
  },
  {
   "cell_type": "code",
   "execution_count": 25,
   "metadata": {},
   "outputs": [],
   "source": [
    "df_user_reviews = df_user_reviews.drop(['user_url'], axis=1)"
   ]
  },
  {
   "cell_type": "code",
   "execution_count": 26,
   "metadata": {},
   "outputs": [
    {
     "data": {
      "text/html": [
       "<div>\n",
       "<style scoped>\n",
       "    .dataframe tbody tr th:only-of-type {\n",
       "        vertical-align: middle;\n",
       "    }\n",
       "\n",
       "    .dataframe tbody tr th {\n",
       "        vertical-align: top;\n",
       "    }\n",
       "\n",
       "    .dataframe thead th {\n",
       "        text-align: right;\n",
       "    }\n",
       "</style>\n",
       "<table border=\"1\" class=\"dataframe\">\n",
       "  <thead>\n",
       "    <tr style=\"text-align: right;\">\n",
       "      <th></th>\n",
       "      <th>user_id</th>\n",
       "      <th>reviews</th>\n",
       "    </tr>\n",
       "  </thead>\n",
       "  <tbody>\n",
       "    <tr>\n",
       "      <th>0</th>\n",
       "      <td>76561197970982479</td>\n",
       "      <td>[{'funny': '', 'posted': 'Posted November 5, 2...</td>\n",
       "    </tr>\n",
       "    <tr>\n",
       "      <th>1</th>\n",
       "      <td>js41637</td>\n",
       "      <td>[{'funny': '', 'posted': 'Posted June 24, 2014...</td>\n",
       "    </tr>\n",
       "    <tr>\n",
       "      <th>2</th>\n",
       "      <td>evcentric</td>\n",
       "      <td>[{'funny': '', 'posted': 'Posted February 3.',...</td>\n",
       "    </tr>\n",
       "    <tr>\n",
       "      <th>3</th>\n",
       "      <td>doctr</td>\n",
       "      <td>[{'funny': '', 'posted': 'Posted October 14, 2...</td>\n",
       "    </tr>\n",
       "    <tr>\n",
       "      <th>4</th>\n",
       "      <td>maplemage</td>\n",
       "      <td>[{'funny': '3 people found this review funny',...</td>\n",
       "    </tr>\n",
       "  </tbody>\n",
       "</table>\n",
       "</div>"
      ],
      "text/plain": [
       "             user_id                                            reviews\n",
       "0  76561197970982479  [{'funny': '', 'posted': 'Posted November 5, 2...\n",
       "1            js41637  [{'funny': '', 'posted': 'Posted June 24, 2014...\n",
       "2          evcentric  [{'funny': '', 'posted': 'Posted February 3.',...\n",
       "3              doctr  [{'funny': '', 'posted': 'Posted October 14, 2...\n",
       "4          maplemage  [{'funny': '3 people found this review funny',..."
      ]
     },
     "execution_count": 26,
     "metadata": {},
     "output_type": "execute_result"
    }
   ],
   "source": [
    "df_user_reviews.head()"
   ]
  },
  {
   "cell_type": "code",
   "execution_count": 27,
   "metadata": {},
   "outputs": [
    {
     "name": "stdout",
     "output_type": "stream",
     "text": [
      "Total de filas con valores nulos: 0\n",
      "Porcentaje de filas con valores nulos: 0.0%\n"
     ]
    }
   ],
   "source": [
    "# Contar filas con valores nulos\n",
    "filas_con_nulos1 = df_user_reviews.isnull().sum(axis=1)\n",
    "total_filas1 = len(dfsteam_games)\n",
    "\n",
    "# Calcular porcentaje de filas con valores nulos\n",
    "porcentaje_nulos1 = (filas_con_nulos1 / total_filas1) * 100\n",
    "\n",
    "# Imprimir resultados\n",
    "print(f\"Total de filas con valores nulos: {filas_con_nulos1.sum()}\")\n",
    "print(f\"Porcentaje de filas con valores nulos: {porcentaje_nulos1.mean()}%\")"
   ]
  },
  {
   "cell_type": "code",
   "execution_count": 28,
   "metadata": {},
   "outputs": [
    {
     "name": "stdout",
     "output_type": "stream",
     "text": [
      "             user_id                                            reviews\n",
      "0  76561197970982479  [{'funny': '', 'posted': 'Posted November 5, 2...\n",
      "1            js41637  [{'funny': '', 'posted': 'Posted June 24, 2014...\n",
      "2          evcentric  [{'funny': '', 'posted': 'Posted February 3.',...\n",
      "3              doctr  [{'funny': '', 'posted': 'Posted October 14, 2...\n",
      "4          maplemage  [{'funny': '3 people found this review funny',...\n",
      "<class 'pandas.core.frame.DataFrame'>\n",
      "RangeIndex: 25799 entries, 0 to 25798\n",
      "Data columns (total 2 columns):\n",
      " #   Column   Non-Null Count  Dtype \n",
      "---  ------   --------------  ----- \n",
      " 0   user_id  25799 non-null  object\n",
      " 1   reviews  25799 non-null  object\n",
      "dtypes: object(2)\n",
      "memory usage: 403.2+ KB\n",
      "None\n"
     ]
    }
   ],
   "source": [
    "# Imprimir los primeros juegos del DataFrame\n",
    "print(df_user_reviews.head())\n",
    "\n",
    "# Imprimir información sobre el DataFrame\n",
    "print(df_user_reviews.info())"
   ]
  },
  {
   "cell_type": "code",
   "execution_count": 29,
   "metadata": {},
   "outputs": [
    {
     "name": "stdout",
     "output_type": "stream",
     "text": [
      "Requirement already satisfied: textblob in c:\\users\\jaime\\appdata\\local\\programs\\python\\python311\\lib\\site-packages (0.17.1)\n",
      "Requirement already satisfied: nltk>=3.1 in c:\\users\\jaime\\appdata\\local\\programs\\python\\python311\\lib\\site-packages (from textblob) (3.8.1)\n",
      "Requirement already satisfied: click in c:\\users\\jaime\\appdata\\local\\programs\\python\\python311\\lib\\site-packages (from nltk>=3.1->textblob) (8.1.7)\n",
      "Requirement already satisfied: joblib in c:\\users\\jaime\\appdata\\local\\programs\\python\\python311\\lib\\site-packages (from nltk>=3.1->textblob) (1.3.2)\n",
      "Requirement already satisfied: regex>=2021.8.3 in c:\\users\\jaime\\appdata\\local\\programs\\python\\python311\\lib\\site-packages (from nltk>=3.1->textblob) (2023.8.8)\n",
      "Requirement already satisfied: tqdm in c:\\users\\jaime\\appdata\\local\\programs\\python\\python311\\lib\\site-packages (from nltk>=3.1->textblob) (4.66.1)\n",
      "Requirement already satisfied: colorama in c:\\users\\jaime\\appdata\\roaming\\python\\python311\\site-packages (from click->nltk>=3.1->textblob) (0.4.6)\n",
      "Note: you may need to restart the kernel to use updated packages.\n"
     ]
    },
    {
     "name": "stderr",
     "output_type": "stream",
     "text": [
      "\n",
      "[notice] A new release of pip is available: 23.2.1 -> 23.3.1\n",
      "[notice] To update, run: python.exe -m pip install --upgrade pip\n"
     ]
    }
   ],
   "source": [
    "pip install textblob\n"
   ]
  },
  {
   "cell_type": "code",
   "execution_count": 30,
   "metadata": {},
   "outputs": [],
   "source": [
    "from textblob import TextBlob\n",
    "\n",
    "def assign_sentiment(review_data):\n",
    "    if isinstance(review_data, list):\n",
    "        sentiment_scores = []\n",
    "\n",
    "        for review_entry in review_data:\n",
    "            if 'review' in review_entry:\n",
    "                review_text = review_entry['review']\n",
    "                if isinstance(review_text, str):\n",
    "                    analysis = TextBlob(review_text)\n",
    "                    sentiment = analysis.sentiment.polarity\n",
    "\n",
    "                    if sentiment > 0:\n",
    "                        sentiment_scores.append(2)  # Positivo\n",
    "                    elif sentiment < 0:\n",
    "                        sentiment_scores.append(0)  # Malo\n",
    "                    else:\n",
    "                        sentiment_scores.append(1)  # Neutral\n",
    "\n",
    "        if sentiment_scores:\n",
    "            # Calcular el sentimiento general de todas las reseñas\n",
    "            average_sentiment = sum(sentiment_scores) / len(sentiment_scores)\n",
    "            return average_sentiment\n",
    "\n",
    "    return 1  # Valor por defecto si no hay reseñas o no se pueden analizar\n",
    "\n",
    "# Aplicar la función de análisis de sentimientos a la columna 'reviews' y agregar una nueva columna 'sentiment_analysis'\n",
    "df_user_reviews['sentiment_analysis'] = df_user_reviews['reviews'].apply(assign_sentiment)\n",
    "\n",
    "# Eliminar la columna 'reviews'\n",
    "df_user_reviews.drop(columns=['reviews'], inplace=True)\n",
    "\n",
    "\n"
   ]
  },
  {
   "cell_type": "code",
   "execution_count": 31,
   "metadata": {},
   "outputs": [
    {
     "name": "stdout",
     "output_type": "stream",
     "text": [
      "             user_id  sentiment_analysis\n",
      "0  76561197970982479            2.000000\n",
      "1            js41637            0.666667\n",
      "2          evcentric            1.666667\n",
      "3              doctr            1.666667\n",
      "4          maplemage            1.750000\n"
     ]
    }
   ],
   "source": [
    "print(df_user_reviews.head())"
   ]
  },
  {
   "cell_type": "code",
   "execution_count": 32,
   "metadata": {},
   "outputs": [],
   "source": [
    "# Redondear los valores en la columna 'sentiment_analysis' a números enteros\n",
    "df_user_reviews['sentiment_analysis'] = df_user_reviews['sentiment_analysis'].round(0).astype(int)\n"
   ]
  },
  {
   "cell_type": "code",
   "execution_count": 33,
   "metadata": {},
   "outputs": [
    {
     "name": "stdout",
     "output_type": "stream",
     "text": [
      "             user_id  sentiment_analysis\n",
      "0  76561197970982479                   2\n",
      "1            js41637                   1\n",
      "2          evcentric                   2\n",
      "3              doctr                   2\n",
      "4          maplemage                   2\n"
     ]
    }
   ],
   "source": [
    "print(df_user_reviews.head())"
   ]
  },
  {
   "cell_type": "code",
   "execution_count": 34,
   "metadata": {},
   "outputs": [],
   "source": [
    "# Guardar el DataFrame como un archivo CSV\n",
    "df_user_reviews.to_csv('user_reviews.csv', index=False)"
   ]
  },
  {
   "cell_type": "code",
   "execution_count": null,
   "metadata": {},
   "outputs": [],
   "source": [
    "# EXTRAER JSON users_items.json"
   ]
  },
  {
   "cell_type": "code",
   "execution_count": 35,
   "metadata": {},
   "outputs": [],
   "source": [
    "# Leer el contenido del archivo users_items.json\n",
    "with open('australian_users_items.json', \"r\", encoding='utf-8') as f:\n",
    "    data = f.readlines()\n",
    "    \n",
    "# Convertir la lineas a registros JSON\n",
    "records = [eval(line.strip()) for line in data]\n",
    "\n",
    "dfusers_items = pd.DataFrame(records)"
   ]
  },
  {
   "cell_type": "code",
   "execution_count": 36,
   "metadata": {},
   "outputs": [
    {
     "data": {
      "text/html": [
       "<div>\n",
       "<style scoped>\n",
       "    .dataframe tbody tr th:only-of-type {\n",
       "        vertical-align: middle;\n",
       "    }\n",
       "\n",
       "    .dataframe tbody tr th {\n",
       "        vertical-align: top;\n",
       "    }\n",
       "\n",
       "    .dataframe thead th {\n",
       "        text-align: right;\n",
       "    }\n",
       "</style>\n",
       "<table border=\"1\" class=\"dataframe\">\n",
       "  <thead>\n",
       "    <tr style=\"text-align: right;\">\n",
       "      <th></th>\n",
       "      <th>user_id</th>\n",
       "      <th>items_count</th>\n",
       "      <th>steam_id</th>\n",
       "      <th>user_url</th>\n",
       "      <th>items</th>\n",
       "    </tr>\n",
       "  </thead>\n",
       "  <tbody>\n",
       "    <tr>\n",
       "      <th>0</th>\n",
       "      <td>76561197970982479</td>\n",
       "      <td>277</td>\n",
       "      <td>76561197970982479</td>\n",
       "      <td>http://steamcommunity.com/profiles/76561197970...</td>\n",
       "      <td>[{'item_id': '10', 'item_name': 'Counter-Strik...</td>\n",
       "    </tr>\n",
       "    <tr>\n",
       "      <th>1</th>\n",
       "      <td>js41637</td>\n",
       "      <td>888</td>\n",
       "      <td>76561198035864385</td>\n",
       "      <td>http://steamcommunity.com/id/js41637</td>\n",
       "      <td>[{'item_id': '10', 'item_name': 'Counter-Strik...</td>\n",
       "    </tr>\n",
       "    <tr>\n",
       "      <th>2</th>\n",
       "      <td>evcentric</td>\n",
       "      <td>137</td>\n",
       "      <td>76561198007712555</td>\n",
       "      <td>http://steamcommunity.com/id/evcentric</td>\n",
       "      <td>[{'item_id': '1200', 'item_name': 'Red Orchest...</td>\n",
       "    </tr>\n",
       "    <tr>\n",
       "      <th>3</th>\n",
       "      <td>Riot-Punch</td>\n",
       "      <td>328</td>\n",
       "      <td>76561197963445855</td>\n",
       "      <td>http://steamcommunity.com/id/Riot-Punch</td>\n",
       "      <td>[{'item_id': '10', 'item_name': 'Counter-Strik...</td>\n",
       "    </tr>\n",
       "    <tr>\n",
       "      <th>4</th>\n",
       "      <td>doctr</td>\n",
       "      <td>541</td>\n",
       "      <td>76561198002099482</td>\n",
       "      <td>http://steamcommunity.com/id/doctr</td>\n",
       "      <td>[{'item_id': '300', 'item_name': 'Day of Defea...</td>\n",
       "    </tr>\n",
       "  </tbody>\n",
       "</table>\n",
       "</div>"
      ],
      "text/plain": [
       "             user_id  items_count           steam_id  \\\n",
       "0  76561197970982479          277  76561197970982479   \n",
       "1            js41637          888  76561198035864385   \n",
       "2          evcentric          137  76561198007712555   \n",
       "3         Riot-Punch          328  76561197963445855   \n",
       "4              doctr          541  76561198002099482   \n",
       "\n",
       "                                            user_url  \\\n",
       "0  http://steamcommunity.com/profiles/76561197970...   \n",
       "1               http://steamcommunity.com/id/js41637   \n",
       "2             http://steamcommunity.com/id/evcentric   \n",
       "3            http://steamcommunity.com/id/Riot-Punch   \n",
       "4                 http://steamcommunity.com/id/doctr   \n",
       "\n",
       "                                               items  \n",
       "0  [{'item_id': '10', 'item_name': 'Counter-Strik...  \n",
       "1  [{'item_id': '10', 'item_name': 'Counter-Strik...  \n",
       "2  [{'item_id': '1200', 'item_name': 'Red Orchest...  \n",
       "3  [{'item_id': '10', 'item_name': 'Counter-Strik...  \n",
       "4  [{'item_id': '300', 'item_name': 'Day of Defea...  "
      ]
     },
     "execution_count": 36,
     "metadata": {},
     "output_type": "execute_result"
    }
   ],
   "source": [
    "dfusers_items.head()"
   ]
  },
  {
   "cell_type": "code",
   "execution_count": 37,
   "metadata": {},
   "outputs": [
    {
     "name": "stdout",
     "output_type": "stream",
     "text": [
      "Index(['user_id', 'items_count', 'steam_id', 'user_url', 'items'], dtype='object')\n"
     ]
    }
   ],
   "source": [
    "columnas = dfusers_items.columns\n",
    "print(columnas)\n"
   ]
  },
  {
   "cell_type": "code",
   "execution_count": 38,
   "metadata": {},
   "outputs": [],
   "source": [
    "dfusers_items = dfusers_items.drop(['items_count', 'user_url', ], axis=1)"
   ]
  },
  {
   "cell_type": "code",
   "execution_count": 39,
   "metadata": {},
   "outputs": [
    {
     "data": {
      "text/html": [
       "<div>\n",
       "<style scoped>\n",
       "    .dataframe tbody tr th:only-of-type {\n",
       "        vertical-align: middle;\n",
       "    }\n",
       "\n",
       "    .dataframe tbody tr th {\n",
       "        vertical-align: top;\n",
       "    }\n",
       "\n",
       "    .dataframe thead th {\n",
       "        text-align: right;\n",
       "    }\n",
       "</style>\n",
       "<table border=\"1\" class=\"dataframe\">\n",
       "  <thead>\n",
       "    <tr style=\"text-align: right;\">\n",
       "      <th></th>\n",
       "      <th>user_id</th>\n",
       "      <th>steam_id</th>\n",
       "      <th>items</th>\n",
       "    </tr>\n",
       "  </thead>\n",
       "  <tbody>\n",
       "    <tr>\n",
       "      <th>0</th>\n",
       "      <td>76561197970982479</td>\n",
       "      <td>76561197970982479</td>\n",
       "      <td>[{'item_id': '10', 'item_name': 'Counter-Strik...</td>\n",
       "    </tr>\n",
       "    <tr>\n",
       "      <th>1</th>\n",
       "      <td>js41637</td>\n",
       "      <td>76561198035864385</td>\n",
       "      <td>[{'item_id': '10', 'item_name': 'Counter-Strik...</td>\n",
       "    </tr>\n",
       "    <tr>\n",
       "      <th>2</th>\n",
       "      <td>evcentric</td>\n",
       "      <td>76561198007712555</td>\n",
       "      <td>[{'item_id': '1200', 'item_name': 'Red Orchest...</td>\n",
       "    </tr>\n",
       "    <tr>\n",
       "      <th>3</th>\n",
       "      <td>Riot-Punch</td>\n",
       "      <td>76561197963445855</td>\n",
       "      <td>[{'item_id': '10', 'item_name': 'Counter-Strik...</td>\n",
       "    </tr>\n",
       "    <tr>\n",
       "      <th>4</th>\n",
       "      <td>doctr</td>\n",
       "      <td>76561198002099482</td>\n",
       "      <td>[{'item_id': '300', 'item_name': 'Day of Defea...</td>\n",
       "    </tr>\n",
       "  </tbody>\n",
       "</table>\n",
       "</div>"
      ],
      "text/plain": [
       "             user_id           steam_id  \\\n",
       "0  76561197970982479  76561197970982479   \n",
       "1            js41637  76561198035864385   \n",
       "2          evcentric  76561198007712555   \n",
       "3         Riot-Punch  76561197963445855   \n",
       "4              doctr  76561198002099482   \n",
       "\n",
       "                                               items  \n",
       "0  [{'item_id': '10', 'item_name': 'Counter-Strik...  \n",
       "1  [{'item_id': '10', 'item_name': 'Counter-Strik...  \n",
       "2  [{'item_id': '1200', 'item_name': 'Red Orchest...  \n",
       "3  [{'item_id': '10', 'item_name': 'Counter-Strik...  \n",
       "4  [{'item_id': '300', 'item_name': 'Day of Defea...  "
      ]
     },
     "execution_count": 39,
     "metadata": {},
     "output_type": "execute_result"
    }
   ],
   "source": [
    "dfusers_items.head()"
   ]
  },
  {
   "cell_type": "code",
   "execution_count": 40,
   "metadata": {},
   "outputs": [],
   "source": [
    "dfusers_items['playtime_forever'] = dfusers_items['items'].apply(lambda x: x[0].get('playtime_forever') if len(x) > 0 else 0)\n",
    "dfusers_items['playtime_2weeks'] = dfusers_items['items'].apply(lambda x: x[0].get('playtime_2weeks') if len(x) > 0 else 0)\n",
    "dfusers_items['id'] = dfusers_items['items'].apply(lambda x: x[0].get('item_id') if len(x) > 0 else 0)\n",
    "dfusers_items['playtime_forever'] = dfusers_items['playtime_forever'].astype(int)\n",
    "dfusers_items['playtime_2weeks'] = dfusers_items['playtime_2weeks'].astype(int)"
   ]
  },
  {
   "cell_type": "code",
   "execution_count": 41,
   "metadata": {},
   "outputs": [
    {
     "data": {
      "text/html": [
       "<div>\n",
       "<style scoped>\n",
       "    .dataframe tbody tr th:only-of-type {\n",
       "        vertical-align: middle;\n",
       "    }\n",
       "\n",
       "    .dataframe tbody tr th {\n",
       "        vertical-align: top;\n",
       "    }\n",
       "\n",
       "    .dataframe thead th {\n",
       "        text-align: right;\n",
       "    }\n",
       "</style>\n",
       "<table border=\"1\" class=\"dataframe\">\n",
       "  <thead>\n",
       "    <tr style=\"text-align: right;\">\n",
       "      <th></th>\n",
       "      <th>user_id</th>\n",
       "      <th>steam_id</th>\n",
       "      <th>items</th>\n",
       "      <th>playtime_forever</th>\n",
       "      <th>playtime_2weeks</th>\n",
       "      <th>id</th>\n",
       "    </tr>\n",
       "  </thead>\n",
       "  <tbody>\n",
       "    <tr>\n",
       "      <th>0</th>\n",
       "      <td>76561197970982479</td>\n",
       "      <td>76561197970982479</td>\n",
       "      <td>[{'item_id': '10', 'item_name': 'Counter-Strik...</td>\n",
       "      <td>6</td>\n",
       "      <td>0</td>\n",
       "      <td>10</td>\n",
       "    </tr>\n",
       "    <tr>\n",
       "      <th>1</th>\n",
       "      <td>js41637</td>\n",
       "      <td>76561198035864385</td>\n",
       "      <td>[{'item_id': '10', 'item_name': 'Counter-Strik...</td>\n",
       "      <td>0</td>\n",
       "      <td>0</td>\n",
       "      <td>10</td>\n",
       "    </tr>\n",
       "    <tr>\n",
       "      <th>2</th>\n",
       "      <td>evcentric</td>\n",
       "      <td>76561198007712555</td>\n",
       "      <td>[{'item_id': '1200', 'item_name': 'Red Orchest...</td>\n",
       "      <td>923</td>\n",
       "      <td>0</td>\n",
       "      <td>1200</td>\n",
       "    </tr>\n",
       "    <tr>\n",
       "      <th>3</th>\n",
       "      <td>Riot-Punch</td>\n",
       "      <td>76561197963445855</td>\n",
       "      <td>[{'item_id': '10', 'item_name': 'Counter-Strik...</td>\n",
       "      <td>0</td>\n",
       "      <td>0</td>\n",
       "      <td>10</td>\n",
       "    </tr>\n",
       "    <tr>\n",
       "      <th>4</th>\n",
       "      <td>doctr</td>\n",
       "      <td>76561198002099482</td>\n",
       "      <td>[{'item_id': '300', 'item_name': 'Day of Defea...</td>\n",
       "      <td>1131</td>\n",
       "      <td>0</td>\n",
       "      <td>300</td>\n",
       "    </tr>\n",
       "  </tbody>\n",
       "</table>\n",
       "</div>"
      ],
      "text/plain": [
       "             user_id           steam_id  \\\n",
       "0  76561197970982479  76561197970982479   \n",
       "1            js41637  76561198035864385   \n",
       "2          evcentric  76561198007712555   \n",
       "3         Riot-Punch  76561197963445855   \n",
       "4              doctr  76561198002099482   \n",
       "\n",
       "                                               items  playtime_forever  \\\n",
       "0  [{'item_id': '10', 'item_name': 'Counter-Strik...                 6   \n",
       "1  [{'item_id': '10', 'item_name': 'Counter-Strik...                 0   \n",
       "2  [{'item_id': '1200', 'item_name': 'Red Orchest...               923   \n",
       "3  [{'item_id': '10', 'item_name': 'Counter-Strik...                 0   \n",
       "4  [{'item_id': '300', 'item_name': 'Day of Defea...              1131   \n",
       "\n",
       "   playtime_2weeks    id  \n",
       "0                0    10  \n",
       "1                0    10  \n",
       "2                0  1200  \n",
       "3                0    10  \n",
       "4                0   300  "
      ]
     },
     "execution_count": 41,
     "metadata": {},
     "output_type": "execute_result"
    }
   ],
   "source": [
    "dfusers_items.head()"
   ]
  },
  {
   "cell_type": "code",
   "execution_count": 42,
   "metadata": {},
   "outputs": [],
   "source": [
    "\n",
    "dfusers_items.drop(['items'], axis=1, inplace=True)"
   ]
  },
  {
   "cell_type": "code",
   "execution_count": 43,
   "metadata": {},
   "outputs": [],
   "source": [
    "dfusers_items.drop(['playtime_2weeks'], axis=1, inplace=True)"
   ]
  },
  {
   "cell_type": "code",
   "execution_count": 44,
   "metadata": {},
   "outputs": [
    {
     "data": {
      "text/html": [
       "<div>\n",
       "<style scoped>\n",
       "    .dataframe tbody tr th:only-of-type {\n",
       "        vertical-align: middle;\n",
       "    }\n",
       "\n",
       "    .dataframe tbody tr th {\n",
       "        vertical-align: top;\n",
       "    }\n",
       "\n",
       "    .dataframe thead th {\n",
       "        text-align: right;\n",
       "    }\n",
       "</style>\n",
       "<table border=\"1\" class=\"dataframe\">\n",
       "  <thead>\n",
       "    <tr style=\"text-align: right;\">\n",
       "      <th></th>\n",
       "      <th>user_id</th>\n",
       "      <th>steam_id</th>\n",
       "      <th>playtime_forever</th>\n",
       "      <th>id</th>\n",
       "    </tr>\n",
       "  </thead>\n",
       "  <tbody>\n",
       "    <tr>\n",
       "      <th>0</th>\n",
       "      <td>76561197970982479</td>\n",
       "      <td>76561197970982479</td>\n",
       "      <td>6</td>\n",
       "      <td>10</td>\n",
       "    </tr>\n",
       "    <tr>\n",
       "      <th>1</th>\n",
       "      <td>js41637</td>\n",
       "      <td>76561198035864385</td>\n",
       "      <td>0</td>\n",
       "      <td>10</td>\n",
       "    </tr>\n",
       "    <tr>\n",
       "      <th>2</th>\n",
       "      <td>evcentric</td>\n",
       "      <td>76561198007712555</td>\n",
       "      <td>923</td>\n",
       "      <td>1200</td>\n",
       "    </tr>\n",
       "    <tr>\n",
       "      <th>3</th>\n",
       "      <td>Riot-Punch</td>\n",
       "      <td>76561197963445855</td>\n",
       "      <td>0</td>\n",
       "      <td>10</td>\n",
       "    </tr>\n",
       "    <tr>\n",
       "      <th>4</th>\n",
       "      <td>doctr</td>\n",
       "      <td>76561198002099482</td>\n",
       "      <td>1131</td>\n",
       "      <td>300</td>\n",
       "    </tr>\n",
       "  </tbody>\n",
       "</table>\n",
       "</div>"
      ],
      "text/plain": [
       "             user_id           steam_id  playtime_forever    id\n",
       "0  76561197970982479  76561197970982479                 6    10\n",
       "1            js41637  76561198035864385                 0    10\n",
       "2          evcentric  76561198007712555               923  1200\n",
       "3         Riot-Punch  76561197963445855                 0    10\n",
       "4              doctr  76561198002099482              1131   300"
      ]
     },
     "execution_count": 44,
     "metadata": {},
     "output_type": "execute_result"
    }
   ],
   "source": [
    "dfusers_items.head()"
   ]
  },
  {
   "cell_type": "code",
   "execution_count": 45,
   "metadata": {},
   "outputs": [
    {
     "name": "stdout",
     "output_type": "stream",
     "text": [
      "user_id             object\n",
      "steam_id            object\n",
      "playtime_forever     int32\n",
      "id                   int64\n",
      "dtype: object\n"
     ]
    }
   ],
   "source": [
    "#  \n",
    "\n",
    "# Convertir la columna 'id' a valores numéricos\n",
    "dfusers_items['id'] = pd.to_numeric(dfusers_items['id'], errors='coerce')\n",
    "\n",
    "# La opción 'errors' con valor 'coerce' transformará los valores no numéricos en NaN\n",
    "\n",
    "# Verificar que la columna 'id' ahora contiene valores numéricos\n",
    "print(dfusers_items.dtypes)\n"
   ]
  },
  {
   "cell_type": "code",
   "execution_count": 46,
   "metadata": {},
   "outputs": [
    {
     "name": "stdout",
     "output_type": "stream",
     "text": [
      "Todos los valores en la columna 'id' de dfsteam_games_cleaned son numéricos.\n",
      "Todos los valores en la columna 'id' de dfusers_items son numéricos.\n"
     ]
    }
   ],
   "source": [
    "\n",
    "# Verifica el DataFrame dfsteam_games_cleaned\n",
    "if dfsteam_games_cleaned['id'].apply(lambda x: isinstance(x, (int, float))).all():\n",
    "    print(\"Todos los valores en la columna 'id' de dfsteam_games_cleaned son numéricos.\")\n",
    "else:\n",
    "    print(\"La columna 'id' de dfsteam_games_cleaned contiene valores no numéricos.\")\n",
    "\n",
    "# Verifica el DataFrame dfusers_items\n",
    "if dfusers_items['id'].apply(lambda x: isinstance(x, (int, float))).all():\n",
    "    print(\"Todos los valores en la columna 'id' de dfusers_items son numéricos.\")\n",
    "else:\n",
    "    print(\"La columna 'id' de dfusers_items contiene valores no numéricos.\")\n"
   ]
  },
  {
   "cell_type": "code",
   "execution_count": 47,
   "metadata": {},
   "outputs": [
    {
     "name": "stdout",
     "output_type": "stream",
     "text": [
      "Año con más horas jugadas para el género 'Adventure': 2011.0\n"
     ]
    }
   ],
   "source": [
    "\n",
    "\n",
    "# Filtrar juegos del género \"Action\" en dfsteam_games_cleaned\n",
    "juegos_action = dfsteam_games_cleaned[dfsteam_games_cleaned['genres'].str.contains('Adventure', case=False, na=False)]\n",
    "\n",
    "# Realizar un merge entre juegos_action y dfusers_items utilizando 'id' como clave de unión\n",
    "merged_df = juegos_action.merge(dfusers_items[['id', 'playtime_forever']], left_on='id', right_on='id', how='inner')\n",
    "\n",
    "# Convertir la columna 'playtime_forever' a tipo int\n",
    "merged_df['playtime_forever'] = merged_df['playtime_forever'].astype(int)\n",
    "\n",
    "# Convertir la columna 'release_date' a tipo datetime si aún no lo está\n",
    "merged_df['release_date'] = pd.to_datetime(merged_df['release_date'])\n",
    "\n",
    "# Obtener el año con más horas jugadas\n",
    "year_with_most_playtime = merged_df.groupby(merged_df['release_date'].dt.year)['playtime_forever'].sum().idxmax()\n",
    "\n",
    "print(f\"Año con más horas jugadas para el género 'Adventure': {year_with_most_playtime}\")\n"
   ]
  },
  {
   "cell_type": "code",
   "execution_count": 48,
   "metadata": {},
   "outputs": [],
   "source": [
    "dfusers_items.to_csv('dfusers_items.csv', index=False)"
   ]
  },
  {
   "cell_type": "code",
   "execution_count": 134,
   "metadata": {},
   "outputs": [
    {
     "ename": "RuntimeError",
     "evalue": "asyncio.run() cannot be called from a running event loop",
     "output_type": "error",
     "traceback": [
      "\u001b[1;31m---------------------------------------------------------------------------\u001b[0m",
      "\u001b[1;31mRuntimeError\u001b[0m                              Traceback (most recent call last)",
      "\u001b[1;32mc:\\Users\\jaime\\OneDrive\\Escritorio\\Henry\\Proyectos\\Proyectopersonal1\\proyecto1.ipynb Cell 51\u001b[0m line \u001b[0;36m3\n\u001b[0;32m     <a href='vscode-notebook-cell:/c%3A/Users/jaime/OneDrive/Escritorio/Henry/Proyectos/Proyectopersonal1/proyecto1.ipynb#Y143sZmlsZQ%3D%3D?line=29'>30</a>\u001b[0m \u001b[39mif\u001b[39;00m \u001b[39m__name__\u001b[39m \u001b[39m==\u001b[39m \u001b[39m\"\u001b[39m\u001b[39m__main__\u001b[39m\u001b[39m\"\u001b[39m:\n\u001b[0;32m     <a href='vscode-notebook-cell:/c%3A/Users/jaime/OneDrive/Escritorio/Henry/Proyectos/Proyectopersonal1/proyecto1.ipynb#Y143sZmlsZQ%3D%3D?line=30'>31</a>\u001b[0m     \u001b[39mimport\u001b[39;00m \u001b[39muvicorn\u001b[39;00m\n\u001b[1;32m---> <a href='vscode-notebook-cell:/c%3A/Users/jaime/OneDrive/Escritorio/Henry/Proyectos/Proyectopersonal1/proyecto1.ipynb#Y143sZmlsZQ%3D%3D?line=31'>32</a>\u001b[0m     uvicorn\u001b[39m.\u001b[39;49mrun(app, host\u001b[39m=\u001b[39;49m\u001b[39m\"\u001b[39;49m\u001b[39m0.0.0.0\u001b[39;49m\u001b[39m\"\u001b[39;49m, port\u001b[39m=\u001b[39;49m\u001b[39m8000\u001b[39;49m)\n",
      "File \u001b[1;32mc:\\Users\\jaime\\AppData\\Local\\Programs\\Python\\Python311\\Lib\\site-packages\\uvicorn\\main.py:587\u001b[0m, in \u001b[0;36mrun\u001b[1;34m(app, host, port, uds, fd, loop, http, ws, ws_max_size, ws_max_queue, ws_ping_interval, ws_ping_timeout, ws_per_message_deflate, lifespan, interface, reload, reload_dirs, reload_includes, reload_excludes, reload_delay, workers, env_file, log_config, log_level, access_log, proxy_headers, server_header, date_header, forwarded_allow_ips, root_path, limit_concurrency, backlog, limit_max_requests, timeout_keep_alive, timeout_graceful_shutdown, ssl_keyfile, ssl_certfile, ssl_keyfile_password, ssl_version, ssl_cert_reqs, ssl_ca_certs, ssl_ciphers, headers, use_colors, app_dir, factory, h11_max_incomplete_event_size)\u001b[0m\n\u001b[0;32m    585\u001b[0m     Multiprocess(config, target\u001b[39m=\u001b[39mserver\u001b[39m.\u001b[39mrun, sockets\u001b[39m=\u001b[39m[sock])\u001b[39m.\u001b[39mrun()\n\u001b[0;32m    586\u001b[0m \u001b[39melse\u001b[39;00m:\n\u001b[1;32m--> 587\u001b[0m     server\u001b[39m.\u001b[39;49mrun()\n\u001b[0;32m    588\u001b[0m \u001b[39mif\u001b[39;00m config\u001b[39m.\u001b[39muds \u001b[39mand\u001b[39;00m os\u001b[39m.\u001b[39mpath\u001b[39m.\u001b[39mexists(config\u001b[39m.\u001b[39muds):\n\u001b[0;32m    589\u001b[0m     os\u001b[39m.\u001b[39mremove(config\u001b[39m.\u001b[39muds)  \u001b[39m# pragma: py-win32\u001b[39;00m\n",
      "File \u001b[1;32mc:\\Users\\jaime\\AppData\\Local\\Programs\\Python\\Python311\\Lib\\site-packages\\uvicorn\\server.py:61\u001b[0m, in \u001b[0;36mServer.run\u001b[1;34m(self, sockets)\u001b[0m\n\u001b[0;32m     59\u001b[0m \u001b[39mdef\u001b[39;00m \u001b[39mrun\u001b[39m(\u001b[39mself\u001b[39m, sockets: Optional[List[socket\u001b[39m.\u001b[39msocket]] \u001b[39m=\u001b[39m \u001b[39mNone\u001b[39;00m) \u001b[39m-\u001b[39m\u001b[39m>\u001b[39m \u001b[39mNone\u001b[39;00m:\n\u001b[0;32m     60\u001b[0m     \u001b[39mself\u001b[39m\u001b[39m.\u001b[39mconfig\u001b[39m.\u001b[39msetup_event_loop()\n\u001b[1;32m---> 61\u001b[0m     \u001b[39mreturn\u001b[39;00m asyncio\u001b[39m.\u001b[39;49mrun(\u001b[39mself\u001b[39;49m\u001b[39m.\u001b[39;49mserve(sockets\u001b[39m=\u001b[39;49msockets))\n",
      "File \u001b[1;32mc:\\Users\\jaime\\AppData\\Local\\Programs\\Python\\Python311\\Lib\\asyncio\\runners.py:186\u001b[0m, in \u001b[0;36mrun\u001b[1;34m(main, debug)\u001b[0m\n\u001b[0;32m    161\u001b[0m \u001b[39m\u001b[39m\u001b[39m\"\"\"Execute the coroutine and return the result.\u001b[39;00m\n\u001b[0;32m    162\u001b[0m \n\u001b[0;32m    163\u001b[0m \u001b[39mThis function runs the passed coroutine, taking care of\u001b[39;00m\n\u001b[1;32m   (...)\u001b[0m\n\u001b[0;32m    182\u001b[0m \u001b[39m    asyncio.run(main())\u001b[39;00m\n\u001b[0;32m    183\u001b[0m \u001b[39m\"\"\"\u001b[39;00m\n\u001b[0;32m    184\u001b[0m \u001b[39mif\u001b[39;00m events\u001b[39m.\u001b[39m_get_running_loop() \u001b[39mis\u001b[39;00m \u001b[39mnot\u001b[39;00m \u001b[39mNone\u001b[39;00m:\n\u001b[0;32m    185\u001b[0m     \u001b[39m# fail fast with short traceback\u001b[39;00m\n\u001b[1;32m--> 186\u001b[0m     \u001b[39mraise\u001b[39;00m \u001b[39mRuntimeError\u001b[39;00m(\n\u001b[0;32m    187\u001b[0m         \u001b[39m\"\u001b[39m\u001b[39masyncio.run() cannot be called from a running event loop\u001b[39m\u001b[39m\"\u001b[39m)\n\u001b[0;32m    189\u001b[0m \u001b[39mwith\u001b[39;00m Runner(debug\u001b[39m=\u001b[39mdebug) \u001b[39mas\u001b[39;00m runner:\n\u001b[0;32m    190\u001b[0m     \u001b[39mreturn\u001b[39;00m runner\u001b[39m.\u001b[39mrun(main)\n",
      "\u001b[1;31mRuntimeError\u001b[0m: asyncio.run() cannot be called from a running event loop"
     ]
    }
   ],
   "source": [
    "from fastapi import FastAPI\n",
    "\n",
    "\n",
    "app = FastAPI()\n",
    "\n",
    "@app.get(\"/playtime_genre\")\n",
    "def PlayTimeGenre(genre: str):\n",
    "    # Filtrar juegos del género especificado en dfsteam_games_cleaned\n",
    "    genre_filter = dfsteam_games_cleaned['genres'].str.contains(genre, case=False, na=False)\n",
    "    juegos_genre = dfsteam_games_cleaned[genre_filter]\n",
    "\n",
    "    # Realizar un merge entre juegos_genre y dfusers_items utilizando 'id' como clave de unión\n",
    "    merged_df = juegos_genre.merge(dfusers_items[['id', 'playtime_forever']], left_on='id', right_on='id', how='inner')\n",
    "\n",
    "    # Convertir la columna 'playtime_forever' a tipo int\n",
    "    merged_df['playtime_forever'] = merged_df['playtime_forever'].astype(int)\n",
    "\n",
    "    # Convertir la columna 'release_date' a tipo datetime si aún no lo está\n",
    "    merged_df['release_date'] = pd.to_datetime(merged_df['release_date'])\n",
    "\n",
    "    # Obtener el año con más horas jugadas\n",
    "    year_with_most_playtime = merged_df.groupby(merged_df['release_date'].dt.year)['playtime_forever'].sum().idxmax()\n",
    "\n",
    "    return {\"year_with_most_playtime\": year_with_most_playtime}\n",
    "\n",
    "# Ejecutar la aplicación FastAPI\n",
    "if __name__ == \"__main__\":\n",
    "    import uvicorn\n",
    "    uvicorn.run(app, host=\"0.0.0.0\", port=8000)\n"
   ]
  },
  {
   "cell_type": "code",
   "execution_count": 55,
   "metadata": {},
   "outputs": [
    {
     "name": "stdout",
     "output_type": "stream",
     "text": [
      "               Año  Cantidad de Items Contenido Free\n",
      "release_year                                        \n",
      "2013          2013                  1         100.0%\n",
      "2018          2018                  5           0.0%\n"
     ]
    },
    {
     "name": "stderr",
     "output_type": "stream",
     "text": [
      "C:\\Users\\jaime\\AppData\\Local\\Temp\\ipykernel_5288\\544704319.py:12: SettingWithCopyWarning: \n",
      "A value is trying to be set on a copy of a slice from a DataFrame.\n",
      "Try using .loc[row_indexer,col_indexer] = value instead\n",
      "\n",
      "See the caveats in the documentation: https://pandas.pydata.org/pandas-docs/stable/user_guide/indexing.html#returning-a-view-versus-a-copy\n",
      "  juegos_desarrollador['release_date'] = pd.to_datetime(juegos_desarrollador['release_date'], errors='coerce')\n",
      "C:\\Users\\jaime\\AppData\\Local\\Temp\\ipykernel_5288\\544704319.py:15: SettingWithCopyWarning: \n",
      "A value is trying to be set on a copy of a slice from a DataFrame.\n",
      "Try using .loc[row_indexer,col_indexer] = value instead\n",
      "\n",
      "See the caveats in the documentation: https://pandas.pydata.org/pandas-docs/stable/user_guide/indexing.html#returning-a-view-versus-a-copy\n",
      "  juegos_desarrollador['release_year'] = juegos_desarrollador['release_date'].dt.year\n"
     ]
    }
   ],
   "source": [
    "import pandas as pd\n",
    "from collections import defaultdict\n",
    "from typing import Dict\n",
    "from fastapi import FastAPI\n",
    "\n",
    "# Inicializar FastAPI\n",
    "app = FastAPI()\n",
    "\n",
    "# Cargar el archivo CSV en un DataFrame\n",
    "df = pd.read_csv(\"dfsteam_games_cleaned.csv\")\n",
    "\n",
    "# Función para calcular la cantidad de contenido gratuito y el porcentaje por año para un desarrollador específico\n",
    "def developer(desarrollador: str) -> Dict:\n",
    "    # Filtrar el DataFrame por el desarrollador especificado\n",
    "    developer_df = df[df['developer'] == desarrollador]\n",
    "    \n",
    "    # Crear un diccionario para almacenar los resultados\n",
    "    result = defaultdict(int)\n",
    "    \n",
    "    # Recorrer las filas del DataFrame\n",
    "    for _, row in developer_df.iterrows():\n",
    "        year = row['release_date'][:4]  # Obtener el año de la fecha\n",
    "        price = str(row['price']).lower()  # Convertir el precio a minúsculas\n",
    "        \n",
    "        if \"free\" in price:  # Verificar si el contenido es gratuito\n",
    "            result[year] += 1\n",
    "    \n",
    "    # Calcular el total de juegos por año\n",
    "    total_items_by_year = developer_df['release_date'].str[:4].value_counts().to_dict()\n",
    "    \n",
    "    # Calcular el porcentaje de contenido gratuito\n",
    "    content_free_percentage = {year: (result[year] / total_items_by_year[year]) * 100 for year in result}\n",
    "    \n",
    "    return content_free_percentage\n",
    "\n",
    "# Definir la ruta de la API\n",
    "@app.get(\"/\")\n",
    "async def get_content_free_percentage(desarrollador: str):\n",
    "    content_free = developer(desarrollador)\n",
    "    return content_free\n",
    "\n",
    "# Ejecutar la aplicación FastAPI\n",
    "if __name__ == \"__main__\":\n",
    "    import uvicorn\n",
    "    uvicorn.run(app, host=\"0.0.0.0\", port=8000)\n",
    "\n",
    "\n",
    "      \n",
    "\n",
    "   \n"
   ]
  },
  {
   "cell_type": "code",
   "execution_count": 1,
   "metadata": {},
   "outputs": [
    {
     "name": "stdout",
     "output_type": "stream",
     "text": [
      "Collecting tabulate\n",
      "  Downloading tabulate-0.9.0-py3-none-any.whl (35 kB)\n",
      "Installing collected packages: tabulate\n",
      "Successfully installed tabulate-0.9.0\n",
      "Note: you may need to restart the kernel to use updated packages.\n"
     ]
    },
    {
     "name": "stderr",
     "output_type": "stream",
     "text": [
      "\n",
      "[notice] A new release of pip is available: 23.2.1 -> 23.3.1\n",
      "[notice] To update, run: python.exe -m pip install --upgrade pip\n"
     ]
    }
   ],
   "source": [
    "pip install tabulate"
   ]
  },
  {
   "cell_type": "code",
   "execution_count": 1,
   "metadata": {},
   "outputs": [
    {
     "name": "stdout",
     "output_type": "stream",
     "text": [
      "Sentiment Analysis para el usuario evcentric: 2\n"
     ]
    }
   ],
   "source": [
    "import pandas as pd\n",
    "\n",
    "# Cargar los datos desde el archivo CSV\n",
    "user_reviews = pd.read_csv(\"user_reviews.csv\")\n",
    "\n",
    "# Filtrar las filas para el user_id \"evcentric\"\n",
    "evcentric_reviews = user_reviews[user_reviews[\"user_id\"] == \"evcentric\"]\n",
    "\n",
    "# Obtener el valor de \"sentiment_analysis\"\n",
    "sentiment_value = evcentric_reviews[\"sentiment_analysis\"].values[0]  # Accede al primer valor\n",
    "\n",
    "print(\"Sentiment Analysis para el usuario evcentric:\", sentiment_value)\n"
   ]
  }
 ],
 "metadata": {
  "kernelspec": {
   "display_name": "Python 3",
   "language": "python",
   "name": "python3"
  },
  "language_info": {
   "codemirror_mode": {
    "name": "ipython",
    "version": 3
   },
   "file_extension": ".py",
   "mimetype": "text/x-python",
   "name": "python",
   "nbconvert_exporter": "python",
   "pygments_lexer": "ipython3",
   "version": "3.11.5"
  },
  "orig_nbformat": 4
 },
 "nbformat": 4,
 "nbformat_minor": 2
}
